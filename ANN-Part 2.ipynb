{
 "cells": [
  {
   "cell_type": "code",
   "execution_count": 46,
   "id": "deafd453",
   "metadata": {},
   "outputs": [],
   "source": [
    "import numpy as np \n",
    "import pandas as pd \n",
    "import matplotlib.pyplot as plt \n",
    "import matplotlib as mpl \n",
    "%matplotlib inline "
   ]
  },
  {
   "cell_type": "code",
   "execution_count": 47,
   "id": "9175db61",
   "metadata": {},
   "outputs": [],
   "source": [
    "import tensorflow as tf \n",
    "from tensorflow import keras "
   ]
  },
  {
   "cell_type": "code",
   "execution_count": 48,
   "id": "278e7517",
   "metadata": {},
   "outputs": [],
   "source": [
    "from sklearn.datasets import fetch_california_housing\n",
    "housing = fetch_california_housing()"
   ]
  },
  {
   "cell_type": "code",
   "execution_count": 49,
   "id": "46088ca2",
   "metadata": {},
   "outputs": [
    {
     "name": "stdout",
     "output_type": "stream",
     "text": [
      "['MedInc', 'HouseAge', 'AveRooms', 'AveBedrms', 'Population', 'AveOccup', 'Latitude', 'Longitude']\n"
     ]
    }
   ],
   "source": [
    "print(housing.feature_names)"
   ]
  },
  {
   "cell_type": "code",
   "execution_count": 50,
   "id": "c9b3b16e",
   "metadata": {},
   "outputs": [],
   "source": [
    "from sklearn.model_selection import train_test_split\n",
    "X_train_full, X_test, y_train_full, y_test = train_test_split(housing.data, housing.target, random_state = 42)\n",
    "X_train, X_valid, y_train, y_valid = train_test_split(X_train_full, y_train_full, random_state = 42)"
   ]
  },
  {
   "cell_type": "code",
   "execution_count": 51,
   "id": "e57c2274",
   "metadata": {},
   "outputs": [],
   "source": [
    "from sklearn.preprocessing import StandardScaler\n",
    "scaler = StandardScaler()\n",
    "\n",
    "X_train = scaler.fit_transform(X_train)\n",
    "X_valid = scaler.transform(X_valid)\n",
    "X_test = scaler.transform(X_test)"
   ]
  },
  {
   "cell_type": "code",
   "execution_count": 52,
   "id": "162c1742",
   "metadata": {},
   "outputs": [],
   "source": [
    "np.random.seed(42)\n",
    "tf.random.set_seed(42)"
   ]
  },
  {
   "cell_type": "code",
   "execution_count": 53,
   "id": "6b666367",
   "metadata": {},
   "outputs": [
    {
     "data": {
      "text/plain": [
       "(11610, 8)"
      ]
     },
     "execution_count": 53,
     "metadata": {},
     "output_type": "execute_result"
    }
   ],
   "source": [
    "X_train.shape"
   ]
  },
  {
   "cell_type": "code",
   "execution_count": 36,
   "id": "92bdb3a2",
   "metadata": {},
   "outputs": [],
   "source": [
    "model = keras.models.Sequential([\n",
    "    keras.layers.Dense(30, activation='relu', input_shape=[8]),\n",
    "    keras.layers.Dense(30, activation='relu'),\n",
    "    keras.layers.Dense(1)\n",
    "])"
   ]
  },
  {
   "cell_type": "code",
   "execution_count": 16,
   "id": "07756b3e",
   "metadata": {},
   "outputs": [
    {
     "name": "stdout",
     "output_type": "stream",
     "text": [
      "Model: \"sequential\"\n",
      "_________________________________________________________________\n",
      " Layer (type)                Output Shape              Param #   \n",
      "=================================================================\n",
      " dense (Dense)               (None, 30)                270       \n",
      "                                                                 \n",
      " dense_1 (Dense)             (None, 30)                930       \n",
      "                                                                 \n",
      " dense_2 (Dense)             (None, 1)                 31        \n",
      "                                                                 \n",
      "=================================================================\n",
      "Total params: 1,231\n",
      "Trainable params: 1,231\n",
      "Non-trainable params: 0\n",
      "_________________________________________________________________\n"
     ]
    }
   ],
   "source": [
    "model.summary()"
   ]
  },
  {
   "cell_type": "code",
   "execution_count": 37,
   "id": "4017b9c9",
   "metadata": {},
   "outputs": [
    {
     "name": "stderr",
     "output_type": "stream",
     "text": [
      "/home/eeavlab/anaconda3/lib/python3.9/site-packages/keras/optimizer_v2/gradient_descent.py:102: UserWarning: The `lr` argument is deprecated, use `learning_rate` instead.\n",
      "  super(SGD, self).__init__(name, **kwargs)\n"
     ]
    }
   ],
   "source": [
    "model.compile(loss=\"mean_squared_error\",\n",
    "              optimizer = keras.optimizers.SGD(lr = 1e-3),\n",
    "              metrics=['mae']\n",
    "             )"
   ]
  },
  {
   "cell_type": "code",
   "execution_count": 28,
   "id": "e94e1ec0",
   "metadata": {},
   "outputs": [
    {
     "name": "stdout",
     "output_type": "stream",
     "text": [
      "Epoch 1/20\n",
      "363/363 [==============================] - 1s 2ms/step - loss: 0.3602 - mae: 0.4260 - val_loss: 0.3476 - val_mae: 0.4143\n",
      "Epoch 2/20\n",
      "363/363 [==============================] - 1s 2ms/step - loss: 0.3590 - mae: 0.4250 - val_loss: 0.3744 - val_mae: 0.4199\n",
      "Epoch 3/20\n",
      "363/363 [==============================] - 1s 2ms/step - loss: 0.3581 - mae: 0.4250 - val_loss: 0.3512 - val_mae: 0.4128\n",
      "Epoch 4/20\n",
      "363/363 [==============================] - 1s 2ms/step - loss: 0.3572 - mae: 0.4239 - val_loss: 0.3422 - val_mae: 0.4140\n",
      "Epoch 5/20\n",
      "363/363 [==============================] - 1s 2ms/step - loss: 0.3562 - mae: 0.4233 - val_loss: 0.3449 - val_mae: 0.4133\n",
      "Epoch 6/20\n",
      "363/363 [==============================] - 1s 2ms/step - loss: 0.3554 - mae: 0.4231 - val_loss: 0.3488 - val_mae: 0.4111\n",
      "Epoch 7/20\n",
      "363/363 [==============================] - 1s 2ms/step - loss: 0.3546 - mae: 0.4220 - val_loss: 0.3414 - val_mae: 0.4113\n",
      "Epoch 8/20\n",
      "363/363 [==============================] - 1s 2ms/step - loss: 0.3538 - mae: 0.4217 - val_loss: 0.3392 - val_mae: 0.4103\n",
      "Epoch 9/20\n",
      "363/363 [==============================] - 1s 2ms/step - loss: 0.3531 - mae: 0.4213 - val_loss: 0.3524 - val_mae: 0.4100\n",
      "Epoch 10/20\n",
      "363/363 [==============================] - 1s 2ms/step - loss: 0.3523 - mae: 0.4207 - val_loss: 0.3499 - val_mae: 0.4092\n",
      "Epoch 11/20\n",
      "363/363 [==============================] - 1s 2ms/step - loss: 0.3517 - mae: 0.4199 - val_loss: 0.3310 - val_mae: 0.4074\n",
      "Epoch 12/20\n",
      "363/363 [==============================] - 1s 2ms/step - loss: 0.3509 - mae: 0.4196 - val_loss: 0.3804 - val_mae: 0.4121\n",
      "Epoch 13/20\n",
      "363/363 [==============================] - 1s 2ms/step - loss: 0.3504 - mae: 0.4191 - val_loss: 0.3429 - val_mae: 0.4105\n",
      "Epoch 14/20\n",
      "363/363 [==============================] - 1s 2ms/step - loss: 0.3495 - mae: 0.4185 - val_loss: 0.3323 - val_mae: 0.4083\n",
      "Epoch 15/20\n",
      "363/363 [==============================] - 1s 2ms/step - loss: 0.3489 - mae: 0.4180 - val_loss: 0.3608 - val_mae: 0.4114\n",
      "Epoch 16/20\n",
      "363/363 [==============================] - 1s 2ms/step - loss: 0.3484 - mae: 0.4182 - val_loss: 0.3282 - val_mae: 0.4063\n",
      "Epoch 17/20\n",
      "363/363 [==============================] - 1s 2ms/step - loss: 0.3479 - mae: 0.4177 - val_loss: 0.3539 - val_mae: 0.4085\n",
      "Epoch 18/20\n",
      "363/363 [==============================] - 1s 2ms/step - loss: 0.3472 - mae: 0.4170 - val_loss: 0.3364 - val_mae: 0.4054\n",
      "Epoch 19/20\n",
      "363/363 [==============================] - 1s 2ms/step - loss: 0.3464 - mae: 0.4163 - val_loss: 0.3322 - val_mae: 0.4056\n",
      "Epoch 20/20\n",
      "363/363 [==============================] - 1s 2ms/step - loss: 0.3460 - mae: 0.4162 - val_loss: 0.3880 - val_mae: 0.4113\n"
     ]
    }
   ],
   "source": [
    "model_history = model.fit(X_train, y_train, epochs=20, validation_data=(X_valid, y_valid))"
   ]
  },
  {
   "cell_type": "code",
   "execution_count": 29,
   "id": "ffe744a3",
   "metadata": {},
   "outputs": [
    {
     "name": "stdout",
     "output_type": "stream",
     "text": [
      "162/162 [==============================] - 0s 1ms/step - loss: 0.3449 - mae: 0.4167\n"
     ]
    }
   ],
   "source": [
    "mae_test = model.evaluate(X_test,y_test)"
   ]
  },
  {
   "cell_type": "code",
   "execution_count": 30,
   "id": "8f21bace",
   "metadata": {},
   "outputs": [
    {
     "data": {
      "text/plain": [
       "{'loss': [0.36017751693725586,\n",
       "  0.35899117588996887,\n",
       "  0.35811686515808105,\n",
       "  0.3572351932525635,\n",
       "  0.3562217652797699,\n",
       "  0.3553529381752014,\n",
       "  0.3545736074447632,\n",
       "  0.3538394570350647,\n",
       "  0.35308218002319336,\n",
       "  0.3522690534591675,\n",
       "  0.35168465971946716,\n",
       "  0.35091355443000793,\n",
       "  0.3503801226615906,\n",
       "  0.34952977299690247,\n",
       "  0.3488815128803253,\n",
       "  0.3484176993370056,\n",
       "  0.3478502929210663,\n",
       "  0.3472013473510742,\n",
       "  0.346415638923645,\n",
       "  0.3460220992565155],\n",
       " 'mae': [0.42595356702804565,\n",
       "  0.4250299334526062,\n",
       "  0.425000935792923,\n",
       "  0.4239049553871155,\n",
       "  0.4232674539089203,\n",
       "  0.4230909049510956,\n",
       "  0.421966016292572,\n",
       "  0.42168018221855164,\n",
       "  0.4213489592075348,\n",
       "  0.4206845760345459,\n",
       "  0.4199123680591583,\n",
       "  0.4195931851863861,\n",
       "  0.4190881848335266,\n",
       "  0.41847413778305054,\n",
       "  0.41796454787254333,\n",
       "  0.41822928190231323,\n",
       "  0.417654424905777,\n",
       "  0.417003870010376,\n",
       "  0.4162823557853699,\n",
       "  0.41615909337997437],\n",
       " 'val_loss': [0.34764066338539124,\n",
       "  0.374366819858551,\n",
       "  0.3512306213378906,\n",
       "  0.3421787917613983,\n",
       "  0.3449375331401825,\n",
       "  0.34878066182136536,\n",
       "  0.3413834869861603,\n",
       "  0.33921411633491516,\n",
       "  0.3523655831813812,\n",
       "  0.3499052822589874,\n",
       "  0.3309529721736908,\n",
       "  0.3804100751876831,\n",
       "  0.3429201543331146,\n",
       "  0.3322766423225403,\n",
       "  0.3607579171657562,\n",
       "  0.328203946352005,\n",
       "  0.3539297580718994,\n",
       "  0.3363568186759949,\n",
       "  0.33215904235839844,\n",
       "  0.3880263864994049],\n",
       " 'val_mae': [0.41428953409194946,\n",
       "  0.4199219048023224,\n",
       "  0.4128158986568451,\n",
       "  0.4139770269393921,\n",
       "  0.4133262038230896,\n",
       "  0.4110684394836426,\n",
       "  0.4112602174282074,\n",
       "  0.4103069305419922,\n",
       "  0.4099733233451843,\n",
       "  0.40923207998275757,\n",
       "  0.4073924720287323,\n",
       "  0.4120953679084778,\n",
       "  0.410534530878067,\n",
       "  0.40826287865638733,\n",
       "  0.4113554060459137,\n",
       "  0.4062570631504059,\n",
       "  0.4084693193435669,\n",
       "  0.4053816795349121,\n",
       "  0.40557461977005005,\n",
       "  0.4113093912601471]}"
      ]
     },
     "execution_count": 30,
     "metadata": {},
     "output_type": "execute_result"
    }
   ],
   "source": [
    "model_history.history"
   ]
  },
  {
   "cell_type": "code",
   "execution_count": 31,
   "id": "bfab596d",
   "metadata": {},
   "outputs": [
    {
     "data": {
      "image/png": "[encoded data removed]",
      "text/plain": [
       "<Figure size 576x360 with 1 Axes>"
      ]
     },
     "metadata": {
      "needs_background": "light"
     },
     "output_type": "display_data"
    }
   ],
   "source": [
    "pd.DataFrame(model_history.history).plot(figsize=(8,5))\n",
    "plt.grid(True)\n",
    "plt.gca().set_ylim(0,1)\n",
    "\n",
    "plt.show()"
   ]
  },
  {
   "cell_type": "markdown",
   "id": "6123db66",
   "metadata": {},
   "source": [
    "# Functional API \n",
    "\n",
    "we will try out a wide and deep model which is not like the sequential model \n"
   ]
  },
  {
   "cell_type": "code",
   "execution_count": 42,
   "id": "42541ba1",
   "metadata": {},
   "outputs": [],
   "source": [
    "del model"
   ]
  },
  {
   "cell_type": "code",
   "execution_count": 54,
   "id": "bfbc7295",
   "metadata": {},
   "outputs": [],
   "source": [
    "keras.backend.clear_session()"
   ]
  },
  {
   "cell_type": "code",
   "execution_count": 66,
   "id": "fdb98e0a",
   "metadata": {},
   "outputs": [],
   "source": [
    "input_ = keras.layers.Input(shape=X_train.shape[1])\n",
    "hidden1 = keras.layers.Dense(30, activation='relu')(input_)\n",
    "hidden2 = keras.layers.Dense(30, activation='relu')(hidden1)\n",
    "concat = keras.layers.concatenate([input_,hidden2])\n",
    "output = keras.layers.Dense(1)(concat)\n",
    "model = keras.models.Model(inputs=[input_], outputs=[output])"
   ]
  },
  {
   "cell_type": "code",
   "execution_count": 67,
   "id": "e63db3c0",
   "metadata": {},
   "outputs": [
    {
     "name": "stdout",
     "output_type": "stream",
     "text": [
      "Model: \"model_2\"\n",
      "__________________________________________________________________________________________________\n",
      " Layer (type)                   Output Shape         Param #     Connected to                     \n",
      "==================================================================================================\n",
      " input_3 (InputLayer)           [(None, 8)]          0           []                               \n",
      "                                                                                                  \n",
      " dense_6 (Dense)                (None, 30)           270         ['input_3[0][0]']                \n",
      "                                                                                                  \n",
      " dense_7 (Dense)                (None, 30)           930         ['dense_6[0][0]']                \n",
      "                                                                                                  \n",
      " concatenate_2 (Concatenate)    (None, 38)           0           ['input_3[0][0]',                \n",
      "                                                                  'dense_7[0][0]']                \n",
      "                                                                                                  \n",
      " dense_8 (Dense)                (None, 1)            39          ['concatenate_2[0][0]']          \n",
      "                                                                                                  \n",
      "==================================================================================================\n",
      "Total params: 1,239\n",
      "Trainable params: 1,239\n",
      "Non-trainable params: 0\n",
      "__________________________________________________________________________________________________\n"
     ]
    }
   ],
   "source": [
    "model.summary()"
   ]
  },
  {
   "cell_type": "code",
   "execution_count": 71,
   "id": "f91606f8",
   "metadata": {},
   "outputs": [
    {
     "name": "stderr",
     "output_type": "stream",
     "text": [
      "/home/eeavlab/anaconda3/lib/python3.9/site-packages/keras/optimizer_v2/gradient_descent.py:102: UserWarning: The `lr` argument is deprecated, use `learning_rate` instead.\n",
      "  super(SGD, self).__init__(name, **kwargs)\n"
     ]
    }
   ],
   "source": [
    "model.compile(loss=\"mean_squared_error\",\n",
    "              optimizer = keras.optimizers.SGD(lr = 1e-3),\n",
    "              metrics=['mae']\n",
    "             )"
   ]
  },
  {
   "cell_type": "code",
   "execution_count": 72,
   "id": "c4f94c0b",
   "metadata": {},
   "outputs": [
    {
     "name": "stdout",
     "output_type": "stream",
     "text": [
      "Epoch 1/40\n",
      "363/363 [==============================] - 1s 2ms/step - loss: 1.8422 - mae: 0.9135 - val_loss: 1.7479 - val_mae: 0.6461\n",
      "Epoch 2/40\n",
      "363/363 [==============================] - 1s 2ms/step - loss: 0.7258 - mae: 0.6194 - val_loss: 0.7584 - val_mae: 0.5884\n",
      "Epoch 3/40\n",
      "363/363 [==============================] - 1s 2ms/step - loss: 0.6472 - mae: 0.5835 - val_loss: 0.6156 - val_mae: 0.5509\n",
      "Epoch 4/40\n",
      "363/363 [==============================] - 1s 2ms/step - loss: 0.5944 - mae: 0.5572 - val_loss: 0.5442 - val_mae: 0.5291\n",
      "Epoch 5/40\n",
      "363/363 [==============================] - 1s 2ms/step - loss: 0.5538 - mae: 0.5361 - val_loss: 0.5013 - val_mae: 0.5067\n",
      "Epoch 6/40\n",
      "363/363 [==============================] - 1s 2ms/step - loss: 0.5217 - mae: 0.5201 - val_loss: 0.4749 - val_mae: 0.4918\n",
      "Epoch 7/40\n",
      "363/363 [==============================] - 1s 2ms/step - loss: 0.4970 - mae: 0.5071 - val_loss: 0.4519 - val_mae: 0.4811\n",
      "Epoch 8/40\n",
      "363/363 [==============================] - 1s 2ms/step - loss: 0.4784 - mae: 0.4968 - val_loss: 0.4399 - val_mae: 0.4731\n",
      "Epoch 9/40\n",
      "363/363 [==============================] - 1s 2ms/step - loss: 0.4633 - mae: 0.4895 - val_loss: 0.4288 - val_mae: 0.4664\n",
      "Epoch 10/40\n",
      "363/363 [==============================] - 1s 2ms/step - loss: 0.4515 - mae: 0.4832 - val_loss: 0.4316 - val_mae: 0.4620\n",
      "Epoch 11/40\n",
      "363/363 [==============================] - 1s 2ms/step - loss: 0.4425 - mae: 0.4780 - val_loss: 0.4132 - val_mae: 0.4593\n",
      "Epoch 12/40\n",
      "363/363 [==============================] - 1s 2ms/step - loss: 0.4348 - mae: 0.4743 - val_loss: 0.4353 - val_mae: 0.4571\n",
      "Epoch 13/40\n",
      "363/363 [==============================] - 1s 2ms/step - loss: 0.4287 - mae: 0.4710 - val_loss: 0.4309 - val_mae: 0.4573\n",
      "Epoch 14/40\n",
      "363/363 [==============================] - 1s 2ms/step - loss: 0.4232 - mae: 0.4680 - val_loss: 0.4025 - val_mae: 0.4536\n",
      "Epoch 15/40\n",
      "363/363 [==============================] - 1s 2ms/step - loss: 0.4185 - mae: 0.4660 - val_loss: 0.4114 - val_mae: 0.4509\n",
      "Epoch 16/40\n",
      "363/363 [==============================] - 1s 2ms/step - loss: 0.4144 - mae: 0.4642 - val_loss: 0.4002 - val_mae: 0.4489\n",
      "Epoch 17/40\n",
      "363/363 [==============================] - 1s 2ms/step - loss: 0.4107 - mae: 0.4618 - val_loss: 0.4188 - val_mae: 0.4473\n",
      "Epoch 18/40\n",
      "363/363 [==============================] - 1s 2ms/step - loss: 0.4075 - mae: 0.4600 - val_loss: 0.4173 - val_mae: 0.4452\n",
      "Epoch 19/40\n",
      "363/363 [==============================] - 1s 2ms/step - loss: 0.4039 - mae: 0.4577 - val_loss: 0.3970 - val_mae: 0.4422\n",
      "Epoch 20/40\n",
      "363/363 [==============================] - 1s 2ms/step - loss: 0.4013 - mae: 0.4560 - val_loss: 0.4554 - val_mae: 0.4467\n",
      "Epoch 21/40\n",
      "363/363 [==============================] - 1s 2ms/step - loss: 0.3988 - mae: 0.4546 - val_loss: 0.4178 - val_mae: 0.4447\n",
      "Epoch 22/40\n",
      "363/363 [==============================] - 1s 2ms/step - loss: 0.3960 - mae: 0.4533 - val_loss: 0.4498 - val_mae: 0.4456\n",
      "Epoch 23/40\n",
      "363/363 [==============================] - 1s 2ms/step - loss: 0.3940 - mae: 0.4520 - val_loss: 0.3677 - val_mae: 0.4324\n",
      "Epoch 24/40\n",
      "363/363 [==============================] - 1s 2ms/step - loss: 0.3915 - mae: 0.4498 - val_loss: 0.3936 - val_mae: 0.4362\n",
      "Epoch 25/40\n",
      "363/363 [==============================] - 1s 2ms/step - loss: 0.3891 - mae: 0.4492 - val_loss: 0.4368 - val_mae: 0.4378\n",
      "Epoch 26/40\n",
      "363/363 [==============================] - 1s 2ms/step - loss: 0.3876 - mae: 0.4478 - val_loss: 0.4156 - val_mae: 0.4359\n",
      "Epoch 27/40\n",
      "363/363 [==============================] - 1s 2ms/step - loss: 0.3859 - mae: 0.4464 - val_loss: 0.3611 - val_mae: 0.4306\n",
      "Epoch 28/40\n",
      "363/363 [==============================] - 1s 2ms/step - loss: 0.3839 - mae: 0.4450 - val_loss: 0.3906 - val_mae: 0.4349\n",
      "Epoch 29/40\n",
      "363/363 [==============================] - 1s 2ms/step - loss: 0.3823 - mae: 0.4443 - val_loss: 0.3771 - val_mae: 0.4325\n",
      "Epoch 30/40\n",
      "363/363 [==============================] - 1s 2ms/step - loss: 0.3803 - mae: 0.4431 - val_loss: 0.4261 - val_mae: 0.4333\n",
      "Epoch 31/40\n",
      "363/363 [==============================] - 1s 2ms/step - loss: 0.3788 - mae: 0.4419 - val_loss: 0.3910 - val_mae: 0.4298\n",
      "Epoch 32/40\n",
      "363/363 [==============================] - 1s 2ms/step - loss: 0.3772 - mae: 0.4407 - val_loss: 0.4194 - val_mae: 0.4356\n",
      "Epoch 33/40\n",
      "363/363 [==============================] - 1s 2ms/step - loss: 0.3765 - mae: 0.4406 - val_loss: 0.3645 - val_mae: 0.4282\n",
      "Epoch 34/40\n",
      "363/363 [==============================] - 1s 2ms/step - loss: 0.3747 - mae: 0.4391 - val_loss: 0.3579 - val_mae: 0.4264\n",
      "Epoch 35/40\n",
      "363/363 [==============================] - 1s 2ms/step - loss: 0.3733 - mae: 0.4381 - val_loss: 0.4034 - val_mae: 0.4314\n",
      "Epoch 36/40\n",
      "363/363 [==============================] - 1s 2ms/step - loss: 0.3723 - mae: 0.4377 - val_loss: 0.3488 - val_mae: 0.4223\n",
      "Epoch 37/40\n",
      "363/363 [==============================] - 1s 2ms/step - loss: 0.3709 - mae: 0.4362 - val_loss: 0.3664 - val_mae: 0.4263\n",
      "Epoch 38/40\n",
      "363/363 [==============================] - 1s 2ms/step - loss: 0.3696 - mae: 0.4358 - val_loss: 0.3600 - val_mae: 0.4245\n",
      "Epoch 39/40\n",
      "363/363 [==============================] - 1s 2ms/step - loss: 0.3685 - mae: 0.4353 - val_loss: 0.3511 - val_mae: 0.4211\n",
      "Epoch 40/40\n",
      "363/363 [==============================] - 1s 2ms/step - loss: 0.3672 - mae: 0.4342 - val_loss: 0.3710 - val_mae: 0.4211\n"
     ]
    }
   ],
   "source": [
    "model_history = model.fit(X_train, y_train, epochs = 40, validation_data=(X_valid,y_valid))"
   ]
  },
  {
   "cell_type": "code",
   "execution_count": 73,
   "id": "60e15db6",
   "metadata": {},
   "outputs": [
    {
     "name": "stdout",
     "output_type": "stream",
     "text": [
      "162/162 [==============================] - 0s 1ms/step - loss: 0.3710 - mae: 0.4318\n"
     ]
    }
   ],
   "source": [
    "mae_test = model.evaluate(X_test, y_test)"
   ]
  },
  {
   "cell_type": "code",
   "execution_count": 76,
   "id": "50e12cad",
   "metadata": {},
   "outputs": [
    {
     "data": {
      "text/plain": [
       "{'loss': [1.8422441482543945,\n",
       "  0.7257976531982422,\n",
       "  0.6472155451774597,\n",
       "  0.5944114923477173,\n",
       "  0.5538226962089539,\n",
       "  0.5217078924179077,\n",
       "  0.4970484972000122,\n",
       "  0.4783681333065033,\n",
       "  0.46334922313690186,\n",
       "  0.45151153206825256,\n",
       "  0.44253867864608765,\n",
       "  0.4348475933074951,\n",
       "  0.4286794662475586,\n",
       "  0.4232075810432434,\n",
       "  0.41852113604545593,\n",
       "  0.4144209027290344,\n",
       "  0.41074076294898987,\n",
       "  0.40751466155052185,\n",
       "  0.40391647815704346,\n",
       "  0.4012841582298279,\n",
       "  0.39877891540527344,\n",
       "  0.3959871828556061,\n",
       "  0.3939670920372009,\n",
       "  0.3915209472179413,\n",
       "  0.38914012908935547,\n",
       "  0.38755568861961365,\n",
       "  0.3858514428138733,\n",
       "  0.38389280438423157,\n",
       "  0.3822597861289978,\n",
       "  0.3802841305732727,\n",
       "  0.3788280189037323,\n",
       "  0.37720584869384766,\n",
       "  0.3765164613723755,\n",
       "  0.37469691038131714,\n",
       "  0.3732835650444031,\n",
       "  0.37226730585098267,\n",
       "  0.3708655834197998,\n",
       "  0.3696043789386749,\n",
       "  0.3684754967689514,\n",
       "  0.3672187626361847],\n",
       " 'mae': [0.9134848713874817,\n",
       "  0.6194171905517578,\n",
       "  0.5834541916847229,\n",
       "  0.5572079420089722,\n",
       "  0.536125123500824,\n",
       "  0.5201269388198853,\n",
       "  0.5070964097976685,\n",
       "  0.4967615008354187,\n",
       "  0.489454984664917,\n",
       "  0.48322612047195435,\n",
       "  0.477959543466568,\n",
       "  0.47430795431137085,\n",
       "  0.47103071212768555,\n",
       "  0.4680231213569641,\n",
       "  0.46599769592285156,\n",
       "  0.4642031788825989,\n",
       "  0.4617851674556732,\n",
       "  0.46003568172454834,\n",
       "  0.4576851427555084,\n",
       "  0.4560243785381317,\n",
       "  0.45460695028305054,\n",
       "  0.4532853662967682,\n",
       "  0.4520343840122223,\n",
       "  0.44981566071510315,\n",
       "  0.4492115080356598,\n",
       "  0.44780588150024414,\n",
       "  0.44644832611083984,\n",
       "  0.44504594802856445,\n",
       "  0.44427555799484253,\n",
       "  0.4431253671646118,\n",
       "  0.4418533146381378,\n",
       "  0.4406787157058716,\n",
       "  0.4406120181083679,\n",
       "  0.4391448199748993,\n",
       "  0.4381346106529236,\n",
       "  0.4376731812953949,\n",
       "  0.4362398087978363,\n",
       "  0.4357554316520691,\n",
       "  0.4352506995201111,\n",
       "  0.4341731369495392],\n",
       " 'val_loss': [1.7479074001312256,\n",
       "  0.7584143877029419,\n",
       "  0.6156330704689026,\n",
       "  0.5441513061523438,\n",
       "  0.5013412237167358,\n",
       "  0.474863201379776,\n",
       "  0.4519354999065399,\n",
       "  0.43986040353775024,\n",
       "  0.42881253361701965,\n",
       "  0.43162620067596436,\n",
       "  0.4131883680820465,\n",
       "  0.43534907698631287,\n",
       "  0.4309302866458893,\n",
       "  0.40247052907943726,\n",
       "  0.41144558787345886,\n",
       "  0.4002200961112976,\n",
       "  0.4188252389431,\n",
       "  0.41730979084968567,\n",
       "  0.39696255326271057,\n",
       "  0.45535147190093994,\n",
       "  0.4177795946598053,\n",
       "  0.44981634616851807,\n",
       "  0.36766695976257324,\n",
       "  0.39359667897224426,\n",
       "  0.4368356466293335,\n",
       "  0.4155944883823395,\n",
       "  0.36108773946762085,\n",
       "  0.3906489610671997,\n",
       "  0.3770732879638672,\n",
       "  0.42605239152908325,\n",
       "  0.3910430073738098,\n",
       "  0.41944605112075806,\n",
       "  0.3644719421863556,\n",
       "  0.35791900753974915,\n",
       "  0.4033696949481964,\n",
       "  0.348755419254303,\n",
       "  0.3663601279258728,\n",
       "  0.3600411117076874,\n",
       "  0.35107794404029846,\n",
       "  0.37101200222969055],\n",
       " 'val_mae': [0.6460736393928528,\n",
       "  0.5883778929710388,\n",
       "  0.5509442687034607,\n",
       "  0.5291006565093994,\n",
       "  0.5067248940467834,\n",
       "  0.4917598366737366,\n",
       "  0.4811427891254425,\n",
       "  0.4731101095676422,\n",
       "  0.46642762422561646,\n",
       "  0.46197763085365295,\n",
       "  0.4592709541320801,\n",
       "  0.45708611607551575,\n",
       "  0.4573168158531189,\n",
       "  0.45358747243881226,\n",
       "  0.45089760422706604,\n",
       "  0.44887733459472656,\n",
       "  0.4472706913948059,\n",
       "  0.44518303871154785,\n",
       "  0.44222402572631836,\n",
       "  0.4467008113861084,\n",
       "  0.4447159767150879,\n",
       "  0.44559064507484436,\n",
       "  0.43239420652389526,\n",
       "  0.4361654818058014,\n",
       "  0.4378415644168854,\n",
       "  0.4358711540699005,\n",
       "  0.43058302998542786,\n",
       "  0.4348810613155365,\n",
       "  0.4324560761451721,\n",
       "  0.4333283603191376,\n",
       "  0.4298383295536041,\n",
       "  0.4356086850166321,\n",
       "  0.4281819462776184,\n",
       "  0.4264051020145416,\n",
       "  0.4313580095767975,\n",
       "  0.42231258749961853,\n",
       "  0.426268070936203,\n",
       "  0.4244938790798187,\n",
       "  0.42107093334198,\n",
       "  0.42111751437187195]}"
      ]
     },
     "execution_count": 76,
     "metadata": {},
     "output_type": "execute_result"
    }
   ],
   "source": [
    "model_history.history"
   ]
  },
  {
   "cell_type": "code",
   "execution_count": null,
   "id": "86c264c5",
   "metadata": {},
   "outputs": [],
   "source": []
  }
 ],
 "metadata": {
  "kernelspec": {
   "display_name": "Python 3",
   "language": "python",
   "name": "python3"
  },
  "language_info": {
   "codemirror_mode": {
    "name": "ipython",
    "version": 3
   },
   "file_extension": ".py",
   "mimetype": "text/x-python",
   "name": "python",
   "nbconvert_exporter": "python",
   "pygments_lexer": "ipython3",
   "version": "3.9.7"
  }
 },
 "nbformat": 4,
 "nbformat_minor": 5
}
