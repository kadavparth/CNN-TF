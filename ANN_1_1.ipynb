{
  "nbformat": 4,
  "nbformat_minor": 0,
  "metadata": {
    "colab": {
      "name": "ANN-1.1",
      "provenance": [],
      "authorship_tag": "ABX9TyMpOIWQ9LOapCzxKcPqSB6j",
      "include_colab_link": true
    },
    "kernelspec": {
      "name": "python3",
      "display_name": "Python 3"
    },
    "language_info": {
      "name": "python"
    }
  },
  "cells": [
    {
      "cell_type": "markdown",
      "metadata": {
        "id": "view-in-github",
        "colab_type": "text"
      },
      "source": [
        "<a href=\"https://colab.research.google.com/github/kadavparth/CNN-TF/blob/main/ANN_1_1.ipynb\" target=\"_parent\"><img src=\"https://colab.research.google.com/assets/colab-badge.svg\" alt=\"Open In Colab\"/></a>"
      ]
    },
    {
      "cell_type": "code",
      "execution_count": 1,
      "metadata": {
        "id": "vW_l7oG5N8Gb"
      },
      "outputs": [],
      "source": [
        "import numpy as np\n",
        "import pandas as pd\n",
        "import matplotlib.pyplot as plt\n",
        "import matplotlib as mpl"
      ]
    },
    {
      "cell_type": "code",
      "source": [
        "import tensorflow as tf\n",
        "from tensorflow import keras"
      ],
      "metadata": {
        "id": "S-TXSVLZOcOs"
      },
      "execution_count": 2,
      "outputs": []
    },
    {
      "cell_type": "code",
      "source": [
        "np.random.seed(42)\n",
        "tf.random.set_seed(42)"
      ],
      "metadata": {
        "id": "B_37-9kqOdt8"
      },
      "execution_count": 3,
      "outputs": []
    },
    {
      "cell_type": "code",
      "source": [
        "fashion_mnist = keras.datasets.fashion_mnist\n",
        "(X_train_full, y_train_full), (X_test,y_test) = fashion_mnist.load_data()"
      ],
      "metadata": {
        "colab": {
          "base_uri": "https://localhost:8080/"
        },
        "id": "ZiwwaGevOd8P",
        "outputId": "1c7050bb-cbb9-49e4-8211-1ba5f8f62451"
      },
      "execution_count": 4,
      "outputs": [
        {
          "output_type": "stream",
          "name": "stdout",
          "text": [
            "Downloading data from https://storage.googleapis.com/tensorflow/tf-keras-datasets/train-labels-idx1-ubyte.gz\n",
            "32768/29515 [=================================] - 0s 0us/step\n",
            "40960/29515 [=========================================] - 0s 0us/step\n",
            "Downloading data from https://storage.googleapis.com/tensorflow/tf-keras-datasets/train-images-idx3-ubyte.gz\n",
            "26427392/26421880 [==============================] - 0s 0us/step\n",
            "26435584/26421880 [==============================] - 0s 0us/step\n",
            "Downloading data from https://storage.googleapis.com/tensorflow/tf-keras-datasets/t10k-labels-idx1-ubyte.gz\n",
            "16384/5148 [===============================================================================================] - 0s 0us/step\n",
            "Downloading data from https://storage.googleapis.com/tensorflow/tf-keras-datasets/t10k-images-idx3-ubyte.gz\n",
            "4423680/4422102 [==============================] - 0s 0us/step\n",
            "4431872/4422102 [==============================] - 0s 0us/step\n"
          ]
        }
      ]
    },
    {
      "cell_type": "code",
      "source": [
        "class_names = [\"T-shirt/top\",\"Trouser\",\"Pullover\",\"Dress\",\"Coat\",\"Sandal\",\"Shirt\",\"Sneaker\",\"Bag\",\"Ankle boot\"]"
      ],
      "metadata": {
        "id": "tuR7IB_LOeAL"
      },
      "execution_count": 5,
      "outputs": []
    },
    {
      "cell_type": "code",
      "source": [
        "X_train_n = X_train_full/255.\n",
        "X_test_n = X_test / 255."
      ],
      "metadata": {
        "id": "fICjDdvoOeC8"
      },
      "execution_count": 6,
      "outputs": []
    },
    {
      "cell_type": "code",
      "source": [
        "X_valid, X_train = X_train_n[:5000],X_train_n[5000:]\n",
        "y_valid, y_train = y_train_full[:5000], y_train_full[5000:]\n",
        "X_test = X_test_n"
      ],
      "metadata": {
        "id": "EfKkYjYeOoKt"
      },
      "execution_count": 7,
      "outputs": []
    },
    {
      "cell_type": "code",
      "source": [
        "model = keras.models.Sequential()\n",
        "model.add(keras.layers.Flatten(input_shape=[28,28]))\n",
        "model.add(keras.layers.Dense(300,activation='relu'))\n",
        "model.add(keras.layers.Dense(100,activation='relu'))\n",
        "model.add(keras.layers.Dense(10,activation='softmax'))"
      ],
      "metadata": {
        "id": "NPZpzb2UOqm4"
      },
      "execution_count": 8,
      "outputs": []
    },
    {
      "cell_type": "code",
      "source": [
        "model.summary()"
      ],
      "metadata": {
        "colab": {
          "base_uri": "https://localhost:8080/"
        },
        "id": "eLHhmQQrOsgK",
        "outputId": "d9fd5788-e808-4f33-d40e-5ea922d3f862"
      },
      "execution_count": 9,
      "outputs": [
        {
          "output_type": "stream",
          "name": "stdout",
          "text": [
            "Model: \"sequential\"\n",
            "_________________________________________________________________\n",
            " Layer (type)                Output Shape              Param #   \n",
            "=================================================================\n",
            " flatten (Flatten)           (None, 784)               0         \n",
            "                                                                 \n",
            " dense (Dense)               (None, 300)               235500    \n",
            "                                                                 \n",
            " dense_1 (Dense)             (None, 100)               30100     \n",
            "                                                                 \n",
            " dense_2 (Dense)             (None, 10)                1010      \n",
            "                                                                 \n",
            "=================================================================\n",
            "Total params: 266,610\n",
            "Trainable params: 266,610\n",
            "Non-trainable params: 0\n",
            "_________________________________________________________________\n"
          ]
        }
      ]
    },
    {
      "cell_type": "code",
      "source": [
        "import pydot\n",
        "keras.utils.plot_model(model)"
      ],
      "metadata": {
        "colab": {
          "base_uri": "https://localhost:8080/",
          "height": 466
        },
        "id": "16SoKSvmOuf2",
        "outputId": "4b967cc6-b426-4cc5-eb3a-e1aef7bd6183"
      },
      "execution_count": 10,
      "outputs": [
        {
          "output_type": "execute_result",
          "data": {
            "image/png": "[encoded data removed]",
            "text/plain": [
              "<IPython.core.display.Image object>"
            ]
          },
          "metadata": {},
          "execution_count": 10
        }
      ]
    },
    {
      "cell_type": "code",
      "source": [
        "weights, biases = model.layers[1].get_weights()"
      ],
      "metadata": {
        "id": "BKJYZLXnOylh"
      },
      "execution_count": 11,
      "outputs": []
    },
    {
      "cell_type": "code",
      "source": [
        "model.compile(loss=\"sparse_categorical_crossentropy\",\n",
        "              optimizer = \"sgd\",\n",
        "              metrics=[\"accuracy\"])"
      ],
      "metadata": {
        "id": "5hnAUGqXO0pO"
      },
      "execution_count": 12,
      "outputs": []
    },
    {
      "cell_type": "code",
      "source": [
        "model_history = model.fit(X_train, y_train,epochs=50, validation_data= (X_valid, y_valid))"
      ],
      "metadata": {
        "colab": {
          "base_uri": "https://localhost:8080/"
        },
        "id": "3o8WEkK9O2dW",
        "outputId": "02d1e7f9-2346-4871-9b83-5d0ce40ccca9"
      },
      "execution_count": 13,
      "outputs": [
        {
          "output_type": "stream",
          "name": "stdout",
          "text": [
            "Epoch 1/50\n",
            "1719/1719 [==============================] - 5s 2ms/step - loss: 0.7237 - accuracy: 0.7643 - val_loss: 0.5213 - val_accuracy: 0.8226\n",
            "Epoch 2/50\n",
            "1719/1719 [==============================] - 4s 2ms/step - loss: 0.4842 - accuracy: 0.8318 - val_loss: 0.4353 - val_accuracy: 0.8526\n",
            "Epoch 3/50\n",
            "1719/1719 [==============================] - 4s 2ms/step - loss: 0.4391 - accuracy: 0.8457 - val_loss: 0.5333 - val_accuracy: 0.7988\n",
            "Epoch 4/50\n",
            "1719/1719 [==============================] - 4s 2ms/step - loss: 0.4123 - accuracy: 0.8564 - val_loss: 0.3916 - val_accuracy: 0.8650\n",
            "Epoch 5/50\n",
            "1719/1719 [==============================] - 4s 2ms/step - loss: 0.3939 - accuracy: 0.8616 - val_loss: 0.3741 - val_accuracy: 0.8698\n",
            "Epoch 6/50\n",
            "1719/1719 [==============================] - 4s 2ms/step - loss: 0.3751 - accuracy: 0.8678 - val_loss: 0.3706 - val_accuracy: 0.8726\n",
            "Epoch 7/50\n",
            "1719/1719 [==============================] - 4s 2ms/step - loss: 0.3630 - accuracy: 0.8715 - val_loss: 0.3621 - val_accuracy: 0.8726\n",
            "Epoch 8/50\n",
            "1719/1719 [==============================] - 4s 2ms/step - loss: 0.3515 - accuracy: 0.8752 - val_loss: 0.3855 - val_accuracy: 0.8626\n",
            "Epoch 9/50\n",
            "1719/1719 [==============================] - 4s 2ms/step - loss: 0.3413 - accuracy: 0.8792 - val_loss: 0.3575 - val_accuracy: 0.8718\n",
            "Epoch 10/50\n",
            "1719/1719 [==============================] - 4s 2ms/step - loss: 0.3318 - accuracy: 0.8822 - val_loss: 0.3423 - val_accuracy: 0.8774\n",
            "Epoch 11/50\n",
            "1719/1719 [==============================] - 4s 2ms/step - loss: 0.3238 - accuracy: 0.8838 - val_loss: 0.3449 - val_accuracy: 0.8776\n",
            "Epoch 12/50\n",
            "1719/1719 [==============================] - 4s 2ms/step - loss: 0.3147 - accuracy: 0.8867 - val_loss: 0.3306 - val_accuracy: 0.8808\n",
            "Epoch 13/50\n",
            "1719/1719 [==============================] - 4s 2ms/step - loss: 0.3078 - accuracy: 0.8894 - val_loss: 0.3265 - val_accuracy: 0.8880\n",
            "Epoch 14/50\n",
            "1719/1719 [==============================] - 4s 2ms/step - loss: 0.3019 - accuracy: 0.8915 - val_loss: 0.3422 - val_accuracy: 0.8774\n",
            "Epoch 15/50\n",
            "1719/1719 [==============================] - 4s 2ms/step - loss: 0.2944 - accuracy: 0.8938 - val_loss: 0.3224 - val_accuracy: 0.8858\n",
            "Epoch 16/50\n",
            "1719/1719 [==============================] - 4s 2ms/step - loss: 0.2888 - accuracy: 0.8970 - val_loss: 0.3093 - val_accuracy: 0.8902\n",
            "Epoch 17/50\n",
            "1719/1719 [==============================] - 4s 2ms/step - loss: 0.2835 - accuracy: 0.8981 - val_loss: 0.3549 - val_accuracy: 0.8734\n",
            "Epoch 18/50\n",
            "1719/1719 [==============================] - 4s 2ms/step - loss: 0.2775 - accuracy: 0.9001 - val_loss: 0.3128 - val_accuracy: 0.8900\n",
            "Epoch 19/50\n",
            "1719/1719 [==============================] - 4s 2ms/step - loss: 0.2726 - accuracy: 0.9025 - val_loss: 0.3123 - val_accuracy: 0.8912\n",
            "Epoch 20/50\n",
            "1719/1719 [==============================] - 4s 2ms/step - loss: 0.2672 - accuracy: 0.9037 - val_loss: 0.3289 - val_accuracy: 0.8808\n",
            "Epoch 21/50\n",
            "1719/1719 [==============================] - 4s 2ms/step - loss: 0.2621 - accuracy: 0.9059 - val_loss: 0.3074 - val_accuracy: 0.8920\n",
            "Epoch 22/50\n",
            "1719/1719 [==============================] - 4s 2ms/step - loss: 0.2575 - accuracy: 0.9075 - val_loss: 0.2955 - val_accuracy: 0.8972\n",
            "Epoch 23/50\n",
            "1719/1719 [==============================] - 4s 2ms/step - loss: 0.2533 - accuracy: 0.9084 - val_loss: 0.2995 - val_accuracy: 0.8938\n",
            "Epoch 24/50\n",
            "1719/1719 [==============================] - 4s 2ms/step - loss: 0.2482 - accuracy: 0.9100 - val_loss: 0.3089 - val_accuracy: 0.8878\n",
            "Epoch 25/50\n",
            "1719/1719 [==============================] - 4s 2ms/step - loss: 0.2441 - accuracy: 0.9124 - val_loss: 0.2975 - val_accuracy: 0.8950\n",
            "Epoch 26/50\n",
            "1719/1719 [==============================] - 4s 2ms/step - loss: 0.2403 - accuracy: 0.9137 - val_loss: 0.3066 - val_accuracy: 0.8910\n",
            "Epoch 27/50\n",
            "1719/1719 [==============================] - 4s 2ms/step - loss: 0.2361 - accuracy: 0.9155 - val_loss: 0.3025 - val_accuracy: 0.8958\n",
            "Epoch 28/50\n",
            "1719/1719 [==============================] - 4s 2ms/step - loss: 0.2326 - accuracy: 0.9166 - val_loss: 0.2996 - val_accuracy: 0.8946\n",
            "Epoch 29/50\n",
            "1719/1719 [==============================] - 4s 3ms/step - loss: 0.2282 - accuracy: 0.9189 - val_loss: 0.3055 - val_accuracy: 0.8906\n",
            "Epoch 30/50\n",
            "1719/1719 [==============================] - 4s 2ms/step - loss: 0.2247 - accuracy: 0.9199 - val_loss: 0.3026 - val_accuracy: 0.8928\n",
            "Epoch 31/50\n",
            "1719/1719 [==============================] - 4s 2ms/step - loss: 0.2211 - accuracy: 0.9199 - val_loss: 0.2948 - val_accuracy: 0.8920\n",
            "Epoch 32/50\n",
            "1719/1719 [==============================] - 4s 2ms/step - loss: 0.2175 - accuracy: 0.9216 - val_loss: 0.3043 - val_accuracy: 0.8910\n",
            "Epoch 33/50\n",
            "1719/1719 [==============================] - 4s 2ms/step - loss: 0.2139 - accuracy: 0.9228 - val_loss: 0.2967 - val_accuracy: 0.8956\n",
            "Epoch 34/50\n",
            "1719/1719 [==============================] - 4s 2ms/step - loss: 0.2104 - accuracy: 0.9247 - val_loss: 0.3017 - val_accuracy: 0.8934\n",
            "Epoch 35/50\n",
            "1719/1719 [==============================] - 4s 2ms/step - loss: 0.2063 - accuracy: 0.9260 - val_loss: 0.2833 - val_accuracy: 0.8974\n",
            "Epoch 36/50\n",
            "1719/1719 [==============================] - 4s 2ms/step - loss: 0.2041 - accuracy: 0.9267 - val_loss: 0.3041 - val_accuracy: 0.8954\n",
            "Epoch 37/50\n",
            "1719/1719 [==============================] - 4s 2ms/step - loss: 0.2006 - accuracy: 0.9282 - val_loss: 0.2904 - val_accuracy: 0.8948\n",
            "Epoch 38/50\n",
            "1719/1719 [==============================] - 4s 2ms/step - loss: 0.1963 - accuracy: 0.9306 - val_loss: 0.2868 - val_accuracy: 0.8972\n",
            "Epoch 39/50\n",
            "1719/1719 [==============================] - 4s 2ms/step - loss: 0.1955 - accuracy: 0.9302 - val_loss: 0.2921 - val_accuracy: 0.8968\n",
            "Epoch 40/50\n",
            "1719/1719 [==============================] - 4s 2ms/step - loss: 0.1910 - accuracy: 0.9327 - val_loss: 0.2950 - val_accuracy: 0.8966\n",
            "Epoch 41/50\n",
            "1719/1719 [==============================] - 4s 2ms/step - loss: 0.1885 - accuracy: 0.9329 - val_loss: 0.2858 - val_accuracy: 0.9010\n",
            "Epoch 42/50\n",
            "1719/1719 [==============================] - 4s 2ms/step - loss: 0.1858 - accuracy: 0.9339 - val_loss: 0.2863 - val_accuracy: 0.9002\n",
            "Epoch 43/50\n",
            "1719/1719 [==============================] - 4s 2ms/step - loss: 0.1816 - accuracy: 0.9355 - val_loss: 0.3170 - val_accuracy: 0.8880\n",
            "Epoch 44/50\n",
            "1719/1719 [==============================] - 4s 2ms/step - loss: 0.1792 - accuracy: 0.9366 - val_loss: 0.3113 - val_accuracy: 0.8872\n",
            "Epoch 45/50\n",
            "1719/1719 [==============================] - 4s 2ms/step - loss: 0.1776 - accuracy: 0.9359 - val_loss: 0.2907 - val_accuracy: 0.8986\n",
            "Epoch 46/50\n",
            "1719/1719 [==============================] - 4s 2ms/step - loss: 0.1736 - accuracy: 0.9383 - val_loss: 0.3005 - val_accuracy: 0.8962\n",
            "Epoch 47/50\n",
            "1719/1719 [==============================] - 5s 3ms/step - loss: 0.1710 - accuracy: 0.9386 - val_loss: 0.2938 - val_accuracy: 0.8998\n",
            "Epoch 48/50\n",
            "1719/1719 [==============================] - 5s 3ms/step - loss: 0.1692 - accuracy: 0.9394 - val_loss: 0.3125 - val_accuracy: 0.8918\n",
            "Epoch 49/50\n",
            "1719/1719 [==============================] - 4s 2ms/step - loss: 0.1650 - accuracy: 0.9408 - val_loss: 0.2948 - val_accuracy: 0.8964\n",
            "Epoch 50/50\n",
            "1719/1719 [==============================] - 4s 2ms/step - loss: 0.1632 - accuracy: 0.9419 - val_loss: 0.2970 - val_accuracy: 0.8986\n"
          ]
        }
      ]
    },
    {
      "cell_type": "code",
      "source": [
        "model_history.params"
      ],
      "metadata": {
        "colab": {
          "base_uri": "https://localhost:8080/"
        },
        "id": "APuCZZrYO4cF",
        "outputId": "434c8e70-3348-4f6a-c505-e7d281c0f71a"
      },
      "execution_count": 14,
      "outputs": [
        {
          "output_type": "execute_result",
          "data": {
            "text/plain": [
              "{'epochs': 50, 'steps': 1719, 'verbose': 1}"
            ]
          },
          "metadata": {},
          "execution_count": 14
        }
      ]
    },
    {
      "cell_type": "code",
      "source": [
        "model_history.history\n"
      ],
      "metadata": {
        "colab": {
          "base_uri": "https://localhost:8080/"
        },
        "id": "0d70qBVAPu6q",
        "outputId": "f3a10748-b0f6-4bf1-b100-f7bf405ef5f1"
      },
      "execution_count": 15,
      "outputs": [
        {
          "output_type": "execute_result",
          "data": {
            "text/plain": [
              "{'accuracy': [0.7643091082572937,\n",
              "  0.831781804561615,\n",
              "  0.8456545472145081,\n",
              "  0.8563636541366577,\n",
              "  0.8616363406181335,\n",
              "  0.8677818179130554,\n",
              "  0.8715272545814514,\n",
              "  0.8752181529998779,\n",
              "  0.8791999816894531,\n",
              "  0.8822181820869446,\n",
              "  0.8838000297546387,\n",
              "  0.8866727352142334,\n",
              "  0.8893818259239197,\n",
              "  0.8915091156959534,\n",
              "  0.8938363790512085,\n",
              "  0.8969636559486389,\n",
              "  0.8981454372406006,\n",
              "  0.9000727534294128,\n",
              "  0.902472734451294,\n",
              "  0.9037272930145264,\n",
              "  0.9059090614318848,\n",
              "  0.9075272679328918,\n",
              "  0.9083636403083801,\n",
              "  0.9100000262260437,\n",
              "  0.9124181866645813,\n",
              "  0.9137272834777832,\n",
              "  0.9154909253120422,\n",
              "  0.9166363477706909,\n",
              "  0.9188545346260071,\n",
              "  0.9198727011680603,\n",
              "  0.9198727011680603,\n",
              "  0.9215818047523499,\n",
              "  0.9228000044822693,\n",
              "  0.9247454404830933,\n",
              "  0.9259636402130127,\n",
              "  0.9267454743385315,\n",
              "  0.9282181859016418,\n",
              "  0.93058180809021,\n",
              "  0.9301636219024658,\n",
              "  0.9327272772789001,\n",
              "  0.9328908920288086,\n",
              "  0.9339091181755066,\n",
              "  0.9355090856552124,\n",
              "  0.9365817904472351,\n",
              "  0.9358545541763306,\n",
              "  0.9383454322814941,\n",
              "  0.9386363625526428,\n",
              "  0.9394181966781616,\n",
              "  0.940781831741333,\n",
              "  0.9418727159500122],\n",
              " 'loss': [0.7237027883529663,\n",
              "  0.484192818403244,\n",
              "  0.4390534460544586,\n",
              "  0.41231462359428406,\n",
              "  0.3939222991466522,\n",
              "  0.3750678300857544,\n",
              "  0.3630312979221344,\n",
              "  0.35152509808540344,\n",
              "  0.3412765860557556,\n",
              "  0.3317754566669464,\n",
              "  0.3238329291343689,\n",
              "  0.3146835267543793,\n",
              "  0.30778029561042786,\n",
              "  0.30192798376083374,\n",
              "  0.2943917214870453,\n",
              "  0.28883519768714905,\n",
              "  0.2835114002227783,\n",
              "  0.27753812074661255,\n",
              "  0.2725583016872406,\n",
              "  0.26720917224884033,\n",
              "  0.26212018728256226,\n",
              "  0.2575129568576813,\n",
              "  0.2533215582370758,\n",
              "  0.24818800389766693,\n",
              "  0.24413397908210754,\n",
              "  0.24030040204524994,\n",
              "  0.2361241728067398,\n",
              "  0.23258231580257416,\n",
              "  0.22820375859737396,\n",
              "  0.22473181784152985,\n",
              "  0.22105035185813904,\n",
              "  0.2174673229455948,\n",
              "  0.21390852332115173,\n",
              "  0.21043595671653748,\n",
              "  0.2062637060880661,\n",
              "  0.20410731434822083,\n",
              "  0.20058999955654144,\n",
              "  0.19629107415676117,\n",
              "  0.1954665631055832,\n",
              "  0.19101306796073914,\n",
              "  0.1884736865758896,\n",
              "  0.18575383722782135,\n",
              "  0.1816374510526657,\n",
              "  0.17915193736553192,\n",
              "  0.1775522083044052,\n",
              "  0.17359128594398499,\n",
              "  0.170982226729393,\n",
              "  0.16915641725063324,\n",
              "  0.16495901346206665,\n",
              "  0.16321738064289093],\n",
              " 'val_accuracy': [0.8226000070571899,\n",
              "  0.8525999784469604,\n",
              "  0.798799991607666,\n",
              "  0.8650000095367432,\n",
              "  0.8697999715805054,\n",
              "  0.8726000189781189,\n",
              "  0.8726000189781189,\n",
              "  0.8626000285148621,\n",
              "  0.8718000054359436,\n",
              "  0.8773999810218811,\n",
              "  0.8776000142097473,\n",
              "  0.8808000087738037,\n",
              "  0.8880000114440918,\n",
              "  0.8773999810218811,\n",
              "  0.8858000040054321,\n",
              "  0.8902000188827515,\n",
              "  0.8733999729156494,\n",
              "  0.8899999856948853,\n",
              "  0.8912000060081482,\n",
              "  0.8808000087738037,\n",
              "  0.8920000195503235,\n",
              "  0.8971999883651733,\n",
              "  0.8938000202178955,\n",
              "  0.8877999782562256,\n",
              "  0.8949999809265137,\n",
              "  0.890999972820282,\n",
              "  0.895799994468689,\n",
              "  0.894599974155426,\n",
              "  0.8906000256538391,\n",
              "  0.892799973487854,\n",
              "  0.8920000195503235,\n",
              "  0.890999972820282,\n",
              "  0.8956000208854675,\n",
              "  0.8934000134468079,\n",
              "  0.8974000215530396,\n",
              "  0.8953999876976013,\n",
              "  0.8948000073432922,\n",
              "  0.8971999883651733,\n",
              "  0.8967999815940857,\n",
              "  0.8966000080108643,\n",
              "  0.9010000228881836,\n",
              "  0.9002000093460083,\n",
              "  0.8880000114440918,\n",
              "  0.8871999979019165,\n",
              "  0.8985999822616577,\n",
              "  0.8962000012397766,\n",
              "  0.8998000025749207,\n",
              "  0.8917999863624573,\n",
              "  0.896399974822998,\n",
              "  0.8985999822616577],\n",
              " 'val_loss': [0.5213177800178528,\n",
              "  0.4353218674659729,\n",
              "  0.5333406329154968,\n",
              "  0.3916124105453491,\n",
              "  0.3740810751914978,\n",
              "  0.3706005811691284,\n",
              "  0.3620573878288269,\n",
              "  0.3855200409889221,\n",
              "  0.35746830701828003,\n",
              "  0.34233367443084717,\n",
              "  0.34490251541137695,\n",
              "  0.3305920362472534,\n",
              "  0.32650965452194214,\n",
              "  0.3421776294708252,\n",
              "  0.3224159777164459,\n",
              "  0.3092650771141052,\n",
              "  0.3549402952194214,\n",
              "  0.31275853514671326,\n",
              "  0.3123112618923187,\n",
              "  0.3288777470588684,\n",
              "  0.3074253797531128,\n",
              "  0.29546183347702026,\n",
              "  0.2995152473449707,\n",
              "  0.30886930227279663,\n",
              "  0.2975446879863739,\n",
              "  0.3065853416919708,\n",
              "  0.3024672269821167,\n",
              "  0.2996077835559845,\n",
              "  0.3055015504360199,\n",
              "  0.3026241064071655,\n",
              "  0.2948129177093506,\n",
              "  0.3043385148048401,\n",
              "  0.29674506187438965,\n",
              "  0.3016807734966278,\n",
              "  0.28330960869789124,\n",
              "  0.304103285074234,\n",
              "  0.2903986871242523,\n",
              "  0.28676438331604004,\n",
              "  0.29210448265075684,\n",
              "  0.29503509402275085,\n",
              "  0.2858372926712036,\n",
              "  0.2862844169139862,\n",
              "  0.31695276498794556,\n",
              "  0.3113057017326355,\n",
              "  0.2906937003135681,\n",
              "  0.3004888594150543,\n",
              "  0.293781578540802,\n",
              "  0.31254708766937256,\n",
              "  0.2948390543460846,\n",
              "  0.2970375716686249]}"
            ]
          },
          "metadata": {},
          "execution_count": 15
        }
      ]
    },
    {
      "cell_type": "code",
      "source": [
        "import pandas as pd\n",
        "\n",
        "pd.DataFrame(model_history.history).plot(figsize=(8,10))\n",
        "plt.grid(True)\n",
        "plt.gca().set_ylim(0,1)\n",
        "plt.show"
      ],
      "metadata": {
        "colab": {
          "base_uri": "https://localhost:8080/",
          "height": 613
        },
        "id": "phFasnkmPyRy",
        "outputId": "a8fb29dd-7ecb-4462-89a0-1279e7868f87"
      },
      "execution_count": 16,
      "outputs": [
        {
          "output_type": "execute_result",
          "data": {
            "text/plain": [
              "<function matplotlib.pyplot.show>"
            ]
          },
          "metadata": {},
          "execution_count": 16
        },
        {
          "output_type": "display_data",
          "data": {
            "image/png": "[encoded data removed]",
            "text/plain": [
              "<Figure size 576x720 with 1 Axes>"
            ]
          },
          "metadata": {
            "needs_background": "light"
          }
        }
      ]
    },
    {
      "cell_type": "code",
      "source": [
        "model.evaluate(X_test,y_test)"
      ],
      "metadata": {
        "colab": {
          "base_uri": "https://localhost:8080/"
        },
        "id": "nmVKc1eIQNx3",
        "outputId": "fcbf2056-044c-4552-9e9e-4c9037d3bf28"
      },
      "execution_count": 17,
      "outputs": [
        {
          "output_type": "stream",
          "name": "stdout",
          "text": [
            "313/313 [==============================] - 0s 1ms/step - loss: 0.3310 - accuracy: 0.8881\n"
          ]
        },
        {
          "output_type": "execute_result",
          "data": {
            "text/plain": [
              "[0.33096468448638916, 0.8881000280380249]"
            ]
          },
          "metadata": {},
          "execution_count": 17
        }
      ]
    },
    {
      "cell_type": "code",
      "source": [
        "X_new = X_test[:3]"
      ],
      "metadata": {
        "id": "ph-g4DkSQUXP"
      },
      "execution_count": 18,
      "outputs": []
    },
    {
      "cell_type": "code",
      "source": [
        "y_proba = model.predict(X_new)\n",
        "y_proba.round(2)"
      ],
      "metadata": {
        "colab": {
          "base_uri": "https://localhost:8080/"
        },
        "id": "X30yq28GQd7g",
        "outputId": "f50a2cf2-a1fd-408d-c574-1a7f69bb0da8"
      },
      "execution_count": 19,
      "outputs": [
        {
          "output_type": "execute_result",
          "data": {
            "text/plain": [
              "array([[0., 0., 0., 0., 0., 0., 0., 0., 0., 1.],\n",
              "       [0., 0., 1., 0., 0., 0., 0., 0., 0., 0.],\n",
              "       [0., 1., 0., 0., 0., 0., 0., 0., 0., 0.]], dtype=float32)"
            ]
          },
          "metadata": {},
          "execution_count": 19
        }
      ]
    },
    {
      "cell_type": "code",
      "source": [
        "y_pred = model.predict(X_new)\n",
        "y_pred = np.argmax(y_pred,axis=1)\n",
        "y_pred"
      ],
      "metadata": {
        "colab": {
          "base_uri": "https://localhost:8080/"
        },
        "id": "1k7hVIuGQoRe",
        "outputId": "c45ed099-e8c9-4575-987e-bbaeb418157f"
      },
      "execution_count": 23,
      "outputs": [
        {
          "output_type": "execute_result",
          "data": {
            "text/plain": [
              "array([9, 2, 1])"
            ]
          },
          "metadata": {},
          "execution_count": 23
        }
      ]
    },
    {
      "cell_type": "code",
      "source": [
        "np.array(class_names)[y_pred]"
      ],
      "metadata": {
        "colab": {
          "base_uri": "https://localhost:8080/"
        },
        "id": "yr712suLTwFb",
        "outputId": "cd5b6fd5-162c-45b9-a7a4-307154c07ef1"
      },
      "execution_count": 33,
      "outputs": [
        {
          "output_type": "execute_result",
          "data": {
            "text/plain": [
              "array(['Ankle boot', 'Pullover', 'Trouser'], dtype='<U11')"
            ]
          },
          "metadata": {},
          "execution_count": 33
        }
      ]
    },
    {
      "cell_type": "code",
      "source": [
        ""
      ],
      "metadata": {
        "id": "rF8Rfw04UyZL"
      },
      "execution_count": null,
      "outputs": []
    }
  ]
}