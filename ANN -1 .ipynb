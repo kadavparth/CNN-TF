{
 "cells": [
  {
   "cell_type": "code",
   "execution_count": 20,
   "id": "e5988b47",
   "metadata": {},
   "outputs": [],
   "source": [
    "import numpy as np\n",
    "import pandas as pd\n",
    "import matplotlib.pyplot as plt\n",
    "import matplotlib as mpl"
   ]
  },
  {
   "cell_type": "code",
   "execution_count": 21,
   "id": "e1b5039e",
   "metadata": {},
   "outputs": [],
   "source": [
    "import tensorflow as tf\n",
    "from tensorflow import keras"
   ]
  },
  {
   "cell_type": "markdown",
   "id": "e0b4aec9",
   "metadata": {},
   "source": [
    "## Creating Artificical Neural Network \n",
    "\n",
    "1) WE are using the fashion MNIST datatset with 28x28 pixel images and 10 classes "
   ]
  },
  {
   "cell_type": "code",
   "execution_count": 22,
   "id": "e9186e5c",
   "metadata": {},
   "outputs": [],
   "source": [
    "np.random.seed(42)\n",
    "tf.random.set_seed(42)"
   ]
  },
  {
   "cell_type": "code",
   "execution_count": 23,
   "id": "c45a8f76",
   "metadata": {},
   "outputs": [],
   "source": [
    "fashion_mnist = keras.datasets.fashion_mnist\n",
    "(X_train_full, y_train_full), (X_test,y_test) = fashion_mnist.load_data()"
   ]
  },
  {
   "cell_type": "code",
   "execution_count": 24,
   "id": "34584f95",
   "metadata": {},
   "outputs": [],
   "source": [
    "class_names = [\"T-shirt/top\",\"Trouser\",\"Pullover\",\"Dress\",\"Coat\",\"Sandal\",\"Shirt\",\"Sneaker\",\"Bag\",\"Ankle boot\"]"
   ]
  },
  {
   "cell_type": "code",
   "execution_count": 25,
   "id": "3de61820",
   "metadata": {},
   "outputs": [],
   "source": [
    "X_train_n = X_train_full/255.\n",
    "X_test_n = X_test / 255."
   ]
  },
  {
   "cell_type": "code",
   "execution_count": 26,
   "id": "56700750",
   "metadata": {},
   "outputs": [],
   "source": [
    "X_valid, X_train = X_train_n[:5000],X_train_n[5000:]\n",
    "y_valid, y_train = y_train_full[:5000], y_train_full[5000:]\n",
    "X_test = X_test_n"
   ]
  },
  {
   "cell_type": "code",
   "execution_count": 27,
   "id": "54daa86b",
   "metadata": {},
   "outputs": [],
   "source": [
    "model = keras.models.Sequential()\n",
    "model.add(keras.layers.Flatten(input_shape=[28,28]))\n",
    "model.add(keras.layers.Dense(300,activation='relu'))\n",
    "model.add(keras.layers.Dense(100,activation='relu'))\n",
    "model.add(keras.layers.Dense(10,activation='softmax'))"
   ]
  },
  {
   "cell_type": "code",
   "execution_count": 28,
   "id": "01e47bff",
   "metadata": {},
   "outputs": [
    {
     "name": "stdout",
     "output_type": "stream",
     "text": [
      "Model: \"sequential_1\"\n",
      "_________________________________________________________________\n",
      "Layer (type)                 Output Shape              Param #   \n",
      "=================================================================\n",
      "flatten_1 (Flatten)          (None, 784)               0         \n",
      "_________________________________________________________________\n",
      "dense_3 (Dense)              (None, 300)               235500    \n",
      "_________________________________________________________________\n",
      "dense_4 (Dense)              (None, 100)               30100     \n",
      "_________________________________________________________________\n",
      "dense_5 (Dense)              (None, 10)                1010      \n",
      "=================================================================\n",
      "Total params: 266,610\n",
      "Trainable params: 266,610\n",
      "Non-trainable params: 0\n",
      "_________________________________________________________________\n"
     ]
    }
   ],
   "source": [
    "model.summary()"
   ]
  },
  {
   "cell_type": "code",
   "execution_count": 29,
   "id": "c8803a64",
   "metadata": {},
   "outputs": [
    {
     "data": {
      "image/png": "[encoded data removed]",
      "text/plain": [
       "<IPython.core.display.Image object>"
      ]
     },
     "execution_count": 29,
     "metadata": {},
     "output_type": "execute_result"
    }
   ],
   "source": [
    "import pydot\n",
    "keras.utils.plot_model(model)"
   ]
  },
  {
   "cell_type": "code",
   "execution_count": 30,
   "id": "f8500c65",
   "metadata": {},
   "outputs": [],
   "source": [
    "weights, biases = model.layers[1].get_weights()"
   ]
  },
  {
   "cell_type": "code",
   "execution_count": 31,
   "id": "ac4015a4",
   "metadata": {},
   "outputs": [
    {
     "data": {
      "text/plain": [
       "(784, 300)"
      ]
     },
     "execution_count": 31,
     "metadata": {},
     "output_type": "execute_result"
    }
   ],
   "source": [
    "weights.shape"
   ]
  },
  {
   "cell_type": "markdown",
   "id": "0cd601b1",
   "metadata": {},
   "source": [
    "for more details on loss functions and other paramaters refer: \n",
    "\n",
    "Documentation - https://keras.io/models/sequential/"
   ]
  },
  {
   "cell_type": "code",
   "execution_count": 40,
   "id": "3a568521",
   "metadata": {},
   "outputs": [],
   "source": [
    "model.compile(loss=\"sparse_categorical_crossentropy\",\n",
    "              optimizer = \"sgd\",\n",
    "              metrics=[\"accuracy\"])"
   ]
  },
  {
   "cell_type": "markdown",
   "id": "8129d4ba",
   "metadata": {},
   "source": [
    "#### In our case, beacuse we have different labels, our loss function is sparse_categorical_crossentropy, if we had labels like (0,1) we would use binary_crossentropy \n",
    "\n",
    "#### for optimzer we use sgd which is stochiastic gradient decent, which is mentioned in the notes \n",
    "\n",
    "#### for metrics we want accuracy as this is a classification problem, if it were a regression one, we would use MSE"
   ]
  },
  {
   "cell_type": "code",
   "execution_count": 41,
   "id": "e3bc14b3",
   "metadata": {},
   "outputs": [
    {
     "name": "stdout",
     "output_type": "stream",
     "text": [
      "Epoch 1/50\n",
      "1719/1719 [==============================] - 2s 1ms/step - loss: 0.2207 - accuracy: 0.9198 - val_loss: 0.2888 - val_accuracy: 0.8954\n",
      "Epoch 2/50\n",
      "1719/1719 [==============================] - 2s 1ms/step - loss: 0.2175 - accuracy: 0.9223 - val_loss: 0.2902 - val_accuracy: 0.8972\n",
      "Epoch 3/50\n",
      "1719/1719 [==============================] - 2s 1ms/step - loss: 0.2140 - accuracy: 0.9223 - val_loss: 0.3696 - val_accuracy: 0.8658\n",
      "Epoch 4/50\n",
      "1719/1719 [==============================] - 2s 1ms/step - loss: 0.2104 - accuracy: 0.9254 - val_loss: 0.2920 - val_accuracy: 0.8968\n",
      "Epoch 5/50\n",
      "1719/1719 [==============================] - 2s 1ms/step - loss: 0.2086 - accuracy: 0.9244 - val_loss: 0.2806 - val_accuracy: 0.8986\n",
      "Epoch 6/50\n",
      "1719/1719 [==============================] - 2s 1ms/step - loss: 0.2033 - accuracy: 0.9271 - val_loss: 0.2970 - val_accuracy: 0.8936\n",
      "Epoch 7/50\n",
      "1719/1719 [==============================] - 2s 1ms/step - loss: 0.2004 - accuracy: 0.9294 - val_loss: 0.2925 - val_accuracy: 0.9006\n",
      "Epoch 8/50\n",
      "1719/1719 [==============================] - 2s 1ms/step - loss: 0.1976 - accuracy: 0.9297 - val_loss: 0.3032 - val_accuracy: 0.8894\n",
      "Epoch 9/50\n",
      "1719/1719 [==============================] - 2s 1ms/step - loss: 0.1940 - accuracy: 0.9309 - val_loss: 0.2919 - val_accuracy: 0.8930\n",
      "Epoch 10/50\n",
      "1719/1719 [==============================] - 2s 1ms/step - loss: 0.1907 - accuracy: 0.9321 - val_loss: 0.2828 - val_accuracy: 0.8998\n",
      "Epoch 11/50\n",
      "1719/1719 [==============================] - 2s 1ms/step - loss: 0.1888 - accuracy: 0.9321 - val_loss: 0.2925 - val_accuracy: 0.8984\n",
      "Epoch 12/50\n",
      "1719/1719 [==============================] - 2s 1ms/step - loss: 0.1848 - accuracy: 0.9339 - val_loss: 0.2959 - val_accuracy: 0.8988\n",
      "Epoch 13/50\n",
      "1719/1719 [==============================] - 2s 1ms/step - loss: 0.1818 - accuracy: 0.9362 - val_loss: 0.2953 - val_accuracy: 0.8948\n",
      "Epoch 14/50\n",
      "1719/1719 [==============================] - 2s 1ms/step - loss: 0.1797 - accuracy: 0.9361 - val_loss: 0.3081 - val_accuracy: 0.8910\n",
      "Epoch 15/50\n",
      "1719/1719 [==============================] - 2s 1ms/step - loss: 0.1765 - accuracy: 0.9365 - val_loss: 0.2949 - val_accuracy: 0.8966\n",
      "Epoch 16/50\n",
      "1719/1719 [==============================] - 2s 1ms/step - loss: 0.1741 - accuracy: 0.9386 - val_loss: 0.2837 - val_accuracy: 0.8980\n",
      "Epoch 17/50\n",
      "1719/1719 [==============================] - 2s 1ms/step - loss: 0.1710 - accuracy: 0.9394 - val_loss: 0.3273 - val_accuracy: 0.8924\n",
      "Epoch 18/50\n",
      "1719/1719 [==============================] - 3s 2ms/step - loss: 0.1687 - accuracy: 0.9400 - val_loss: 0.2829 - val_accuracy: 0.9014\n",
      "Epoch 19/50\n",
      "1719/1719 [==============================] - 2s 1ms/step - loss: 0.1658 - accuracy: 0.9414 - val_loss: 0.2992 - val_accuracy: 0.8982\n",
      "Epoch 20/50\n",
      "1719/1719 [==============================] - 2s 1ms/step - loss: 0.1629 - accuracy: 0.9419 - val_loss: 0.2991 - val_accuracy: 0.8964\n",
      "Epoch 21/50\n",
      "1719/1719 [==============================] - 2s 1ms/step - loss: 0.1600 - accuracy: 0.9429 - val_loss: 0.2942 - val_accuracy: 0.8992\n",
      "Epoch 22/50\n",
      "1719/1719 [==============================] - 2s 1ms/step - loss: 0.1581 - accuracy: 0.9429 - val_loss: 0.2899 - val_accuracy: 0.9002\n",
      "Epoch 23/50\n",
      "1719/1719 [==============================] - 2s 1ms/step - loss: 0.1555 - accuracy: 0.9443 - val_loss: 0.2904 - val_accuracy: 0.9020\n",
      "Epoch 24/50\n",
      "1719/1719 [==============================] - 2s 1ms/step - loss: 0.1528 - accuracy: 0.9455 - val_loss: 0.3051 - val_accuracy: 0.8960\n",
      "Epoch 25/50\n",
      "1719/1719 [==============================] - 2s 1ms/step - loss: 0.1501 - accuracy: 0.9469 - val_loss: 0.2917 - val_accuracy: 0.8994\n",
      "Epoch 26/50\n",
      "1719/1719 [==============================] - 2s 1ms/step - loss: 0.1483 - accuracy: 0.9469 - val_loss: 0.3011 - val_accuracy: 0.9008\n",
      "Epoch 27/50\n",
      "1719/1719 [==============================] - 2s 1ms/step - loss: 0.1455 - accuracy: 0.9484 - val_loss: 0.3029 - val_accuracy: 0.8982\n",
      "Epoch 28/50\n",
      "1719/1719 [==============================] - 2s 1ms/step - loss: 0.1436 - accuracy: 0.9496 - val_loss: 0.2926 - val_accuracy: 0.9008\n",
      "Epoch 29/50\n",
      "1719/1719 [==============================] - 2s 1ms/step - loss: 0.1409 - accuracy: 0.9502 - val_loss: 0.3044 - val_accuracy: 0.8986\n",
      "Epoch 30/50\n",
      "1719/1719 [==============================] - 2s 1ms/step - loss: 0.1388 - accuracy: 0.9517 - val_loss: 0.3178 - val_accuracy: 0.8966\n",
      "Epoch 31/50\n",
      "1719/1719 [==============================] - 2s 1ms/step - loss: 0.1367 - accuracy: 0.9517 - val_loss: 0.2997 - val_accuracy: 0.8972\n",
      "Epoch 32/50\n",
      "1719/1719 [==============================] - 2s 1ms/step - loss: 0.1344 - accuracy: 0.9526 - val_loss: 0.3209 - val_accuracy: 0.8962\n",
      "Epoch 33/50\n",
      "1719/1719 [==============================] - 2s 1ms/step - loss: 0.1323 - accuracy: 0.9538 - val_loss: 0.3038 - val_accuracy: 0.8982\n",
      "Epoch 34/50\n",
      "1719/1719 [==============================] - 2s 1ms/step - loss: 0.1301 - accuracy: 0.9538 - val_loss: 0.3175 - val_accuracy: 0.8974\n",
      "Epoch 35/50\n",
      "1719/1719 [==============================] - 2s 1ms/step - loss: 0.1267 - accuracy: 0.9556 - val_loss: 0.3011 - val_accuracy: 0.8976\n",
      "Epoch 36/50\n",
      "1719/1719 [==============================] - 2s 1ms/step - loss: 0.1263 - accuracy: 0.9553 - val_loss: 0.3129 - val_accuracy: 0.9004\n",
      "Epoch 37/50\n",
      "1719/1719 [==============================] - 2s 1ms/step - loss: 0.1239 - accuracy: 0.9561 - val_loss: 0.3018 - val_accuracy: 0.9000\n",
      "Epoch 38/50\n",
      "1719/1719 [==============================] - 2s 1ms/step - loss: 0.1203 - accuracy: 0.9582 - val_loss: 0.2963 - val_accuracy: 0.8996\n",
      "Epoch 39/50\n",
      "1719/1719 [==============================] - 2s 1ms/step - loss: 0.1210 - accuracy: 0.9573 - val_loss: 0.3216 - val_accuracy: 0.9028\n",
      "Epoch 40/50\n",
      "1719/1719 [==============================] - 2s 1ms/step - loss: 0.1177 - accuracy: 0.9593 - val_loss: 0.3110 - val_accuracy: 0.8980\n",
      "Epoch 41/50\n",
      "1719/1719 [==============================] - 2s 1ms/step - loss: 0.1168 - accuracy: 0.9593 - val_loss: 0.3091 - val_accuracy: 0.9014\n",
      "Epoch 42/50\n",
      "1719/1719 [==============================] - 2s 1ms/step - loss: 0.1148 - accuracy: 0.9593 - val_loss: 0.3119 - val_accuracy: 0.9008\n",
      "Epoch 43/50\n",
      "1719/1719 [==============================] - 2s 1ms/step - loss: 0.1117 - accuracy: 0.9615 - val_loss: 0.3630 - val_accuracy: 0.8876\n",
      "Epoch 44/50\n",
      "1719/1719 [==============================] - 2s 1ms/step - loss: 0.1095 - accuracy: 0.9622 - val_loss: 0.3289 - val_accuracy: 0.8940\n",
      "Epoch 45/50\n",
      "1719/1719 [==============================] - 2s 1ms/step - loss: 0.1100 - accuracy: 0.9613 - val_loss: 0.3202 - val_accuracy: 0.8958\n",
      "Epoch 46/50\n",
      "1719/1719 [==============================] - 2s 1ms/step - loss: 0.1062 - accuracy: 0.9638 - val_loss: 0.3200 - val_accuracy: 0.9030\n",
      "Epoch 47/50\n",
      "1719/1719 [==============================] - 2s 1ms/step - loss: 0.1045 - accuracy: 0.9642 - val_loss: 0.3247 - val_accuracy: 0.9002\n",
      "Epoch 48/50\n",
      "1719/1719 [==============================] - 2s 1ms/step - loss: 0.1041 - accuracy: 0.9635 - val_loss: 0.3459 - val_accuracy: 0.8908\n",
      "Epoch 49/50\n",
      "1719/1719 [==============================] - 2s 1ms/step - loss: 0.1003 - accuracy: 0.9653 - val_loss: 0.3262 - val_accuracy: 0.8994\n",
      "Epoch 50/50\n",
      "1719/1719 [==============================] - 2s 1ms/step - loss: 0.1001 - accuracy: 0.9652 - val_loss: 0.3259 - val_accuracy: 0.9004\n"
     ]
    }
   ],
   "source": [
    "model_history = model.fit(X_train, y_train,epochs=50, validation_data= (X_valid, y_valid))"
   ]
  },
  {
   "cell_type": "code",
   "execution_count": 42,
   "id": "4cabb9ab",
   "metadata": {},
   "outputs": [
    {
     "data": {
      "text/plain": [
       "{'verbose': 1, 'epochs': 50, 'steps': 1719}"
      ]
     },
     "execution_count": 42,
     "metadata": {},
     "output_type": "execute_result"
    }
   ],
   "source": [
    "model_history.params"
   ]
  },
  {
   "cell_type": "code",
   "execution_count": 43,
   "id": "92968064",
   "metadata": {},
   "outputs": [
    {
     "data": {
      "text/plain": [
       "{'loss': [0.22065266966819763,\n",
       "  0.21751537919044495,\n",
       "  0.21399863064289093,\n",
       "  0.210396870970726,\n",
       "  0.2086394876241684,\n",
       "  0.20330239832401276,\n",
       "  0.2004118114709854,\n",
       "  0.19764778017997742,\n",
       "  0.19402514398097992,\n",
       "  0.19067956507205963,\n",
       "  0.18878689408302307,\n",
       "  0.18479199707508087,\n",
       "  0.18181060254573822,\n",
       "  0.17969900369644165,\n",
       "  0.17650920152664185,\n",
       "  0.17412911355495453,\n",
       "  0.1710270196199417,\n",
       "  0.16867022216320038,\n",
       "  0.1658162623643875,\n",
       "  0.16289743781089783,\n",
       "  0.1600000560283661,\n",
       "  0.15811099112033844,\n",
       "  0.15551409125328064,\n",
       "  0.1527961641550064,\n",
       "  0.15013359487056732,\n",
       "  0.1483280062675476,\n",
       "  0.14551113545894623,\n",
       "  0.14364373683929443,\n",
       "  0.14092965424060822,\n",
       "  0.1388065665960312,\n",
       "  0.13669447600841522,\n",
       "  0.13435880839824677,\n",
       "  0.13230650126934052,\n",
       "  0.13006919622421265,\n",
       "  0.12665699422359467,\n",
       "  0.12630817294120789,\n",
       "  0.12390482425689697,\n",
       "  0.1203371062874794,\n",
       "  0.12098198384046555,\n",
       "  0.11774766445159912,\n",
       "  0.11676251143217087,\n",
       "  0.11483391374349594,\n",
       "  0.11168797314167023,\n",
       "  0.10945819318294525,\n",
       "  0.11002214252948761,\n",
       "  0.1062237098813057,\n",
       "  0.1045176237821579,\n",
       "  0.10410159826278687,\n",
       "  0.10028840601444244,\n",
       "  0.10012084245681763],\n",
       " 'accuracy': [0.9197999835014343,\n",
       "  0.9222545623779297,\n",
       "  0.9223272800445557,\n",
       "  0.9253636598587036,\n",
       "  0.9243636131286621,\n",
       "  0.9271090626716614,\n",
       "  0.9294182062149048,\n",
       "  0.9297272562980652,\n",
       "  0.9308545589447021,\n",
       "  0.9321272969245911,\n",
       "  0.9320545196533203,\n",
       "  0.9339091181755066,\n",
       "  0.9361818432807922,\n",
       "  0.936090886592865,\n",
       "  0.9364545345306396,\n",
       "  0.9385818243026733,\n",
       "  0.9394000172615051,\n",
       "  0.9399999976158142,\n",
       "  0.9414363503456116,\n",
       "  0.9419454336166382,\n",
       "  0.9429090619087219,\n",
       "  0.9429273009300232,\n",
       "  0.9443272948265076,\n",
       "  0.9455454349517822,\n",
       "  0.9468908905982971,\n",
       "  0.9469090700149536,\n",
       "  0.9483636617660522,\n",
       "  0.9495636224746704,\n",
       "  0.9501636624336243,\n",
       "  0.9516909122467041,\n",
       "  0.9517454504966736,\n",
       "  0.9525818228721619,\n",
       "  0.9537636637687683,\n",
       "  0.9538363814353943,\n",
       "  0.9555818438529968,\n",
       "  0.9553454518318176,\n",
       "  0.9561454653739929,\n",
       "  0.9582181572914124,\n",
       "  0.9573272466659546,\n",
       "  0.9592909216880798,\n",
       "  0.9592909216880798,\n",
       "  0.9593272805213928,\n",
       "  0.961472749710083,\n",
       "  0.9621999859809875,\n",
       "  0.9612727165222168,\n",
       "  0.9637636542320251,\n",
       "  0.9642000198364258,\n",
       "  0.9635454416275024,\n",
       "  0.9653090834617615,\n",
       "  0.9652363657951355],\n",
       " 'val_loss': [0.28881973028182983,\n",
       "  0.2902354300022125,\n",
       "  0.36962419748306274,\n",
       "  0.2919910252094269,\n",
       "  0.2805720567703247,\n",
       "  0.2970077693462372,\n",
       "  0.2924650311470032,\n",
       "  0.3031780421733856,\n",
       "  0.29193609952926636,\n",
       "  0.28280752897262573,\n",
       "  0.2924685478210449,\n",
       "  0.2958616018295288,\n",
       "  0.29529011249542236,\n",
       "  0.30813807249069214,\n",
       "  0.2948560416698456,\n",
       "  0.2836666405200958,\n",
       "  0.32726356387138367,\n",
       "  0.2829255759716034,\n",
       "  0.2991890013217926,\n",
       "  0.29912781715393066,\n",
       "  0.2942253351211548,\n",
       "  0.28987330198287964,\n",
       "  0.29042431712150574,\n",
       "  0.3050806224346161,\n",
       "  0.29173699021339417,\n",
       "  0.301081120967865,\n",
       "  0.30292436480522156,\n",
       "  0.29263144731521606,\n",
       "  0.3044113516807556,\n",
       "  0.31781551241874695,\n",
       "  0.2997469902038574,\n",
       "  0.32093849778175354,\n",
       "  0.30380216240882874,\n",
       "  0.3174818456172943,\n",
       "  0.30109477043151855,\n",
       "  0.31294623017311096,\n",
       "  0.30183908343315125,\n",
       "  0.296295166015625,\n",
       "  0.32163238525390625,\n",
       "  0.3110423684120178,\n",
       "  0.3091188073158264,\n",
       "  0.31194156408309937,\n",
       "  0.36304858326911926,\n",
       "  0.3288845121860504,\n",
       "  0.3202201724052429,\n",
       "  0.3200026750564575,\n",
       "  0.32473379373550415,\n",
       "  0.3459107577800751,\n",
       "  0.3261891007423401,\n",
       "  0.3258669376373291],\n",
       " 'val_accuracy': [0.8953999876976013,\n",
       "  0.8971999883651733,\n",
       "  0.8658000230789185,\n",
       "  0.8967999815940857,\n",
       "  0.8985999822616577,\n",
       "  0.8935999870300293,\n",
       "  0.900600016117096,\n",
       "  0.8894000053405762,\n",
       "  0.8930000066757202,\n",
       "  0.8998000025749207,\n",
       "  0.8984000086784363,\n",
       "  0.8988000154495239,\n",
       "  0.8948000073432922,\n",
       "  0.890999972820282,\n",
       "  0.8966000080108643,\n",
       "  0.8980000019073486,\n",
       "  0.8924000263214111,\n",
       "  0.9014000296592712,\n",
       "  0.8981999754905701,\n",
       "  0.896399974822998,\n",
       "  0.8992000222206116,\n",
       "  0.9002000093460083,\n",
       "  0.9020000100135803,\n",
       "  0.8960000276565552,\n",
       "  0.899399995803833,\n",
       "  0.9007999897003174,\n",
       "  0.8981999754905701,\n",
       "  0.9007999897003174,\n",
       "  0.8985999822616577,\n",
       "  0.8966000080108643,\n",
       "  0.8971999883651733,\n",
       "  0.8962000012397766,\n",
       "  0.8981999754905701,\n",
       "  0.8974000215530396,\n",
       "  0.897599995136261,\n",
       "  0.9003999829292297,\n",
       "  0.8999999761581421,\n",
       "  0.8996000289916992,\n",
       "  0.9028000235557556,\n",
       "  0.8980000019073486,\n",
       "  0.9014000296592712,\n",
       "  0.9007999897003174,\n",
       "  0.8876000046730042,\n",
       "  0.8939999938011169,\n",
       "  0.895799994468689,\n",
       "  0.902999997138977,\n",
       "  0.9002000093460083,\n",
       "  0.8907999992370605,\n",
       "  0.899399995803833,\n",
       "  0.9003999829292297]}"
      ]
     },
     "execution_count": 43,
     "metadata": {},
     "output_type": "execute_result"
    }
   ],
   "source": [
    "model_history.history"
   ]
  },
  {
   "cell_type": "code",
   "execution_count": 44,
   "id": "8c1b427f",
   "metadata": {},
   "outputs": [
    {
     "data": {
      "text/plain": [
       "<function matplotlib.pyplot.show(close=None, block=None)>"
      ]
     },
     "execution_count": 44,
     "metadata": {},
     "output_type": "execute_result"
    },
    {
     "data": {
      "image/png": "[encoded data removed]",
      "text/plain": [
       "<Figure size 576x360 with 1 Axes>"
      ]
     },
     "metadata": {
      "needs_background": "light"
     },
     "output_type": "display_data"
    }
   ],
   "source": [
    "import pandas as pd \n",
    "\n",
    "pd.DataFrame(model_history.history).plot(figsize=(8,5))\n",
    "plt.grid(True)\n",
    "plt.gca().set_ylim(0,1)\n",
    "plt.show"
   ]
  },
  {
   "cell_type": "code",
   "execution_count": 45,
   "id": "30c0316d",
   "metadata": {},
   "outputs": [
    {
     "name": "stdout",
     "output_type": "stream",
     "text": [
      "313/313 [==============================] - 0s 784us/step - loss: 0.3694 - accuracy: 0.8913\n"
     ]
    },
    {
     "data": {
      "text/plain": [
       "[0.3693820536136627, 0.8913000226020813]"
      ]
     },
     "execution_count": 45,
     "metadata": {},
     "output_type": "execute_result"
    }
   ],
   "source": [
    "model.evaluate(X_test,y_test)"
   ]
  },
  {
   "cell_type": "code",
   "execution_count": 46,
   "id": "5858e8ca",
   "metadata": {},
   "outputs": [],
   "source": [
    "X_new = X_test[:3]"
   ]
  },
  {
   "cell_type": "code",
   "execution_count": null,
   "id": "4f19298f",
   "metadata": {},
   "outputs": [],
   "source": []
  }
 ],
 "metadata": {
  "kernelspec": {
   "display_name": "Python 3 (ipykernel)",
   "language": "python",
   "name": "python3"
  },
  "language_info": {
   "codemirror_mode": {
    "name": "ipython",
    "version": 3
   },
   "file_extension": ".py",
   "mimetype": "text/x-python",
   "name": "python",
   "nbconvert_exporter": "python",
   "pygments_lexer": "ipython3",
   "version": "3.8.10"
  }
 },
 "nbformat": 4,
 "nbformat_minor": 5
}
